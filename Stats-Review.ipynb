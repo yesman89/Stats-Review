{
 "cells": [
  {
   "cell_type": "markdown",
   "metadata": {},
   "source": [
    "<a id='back'></a>"
   ]
  },
  {
   "cell_type": "markdown",
   "metadata": {},
   "source": [
    "# Statistical Tests \n",
    "\n",
    "### Intro\n",
    "\n",
    "### Table of Contents\n",
    "* <a href='#samplez'>Large Sample z-test for a population proportion</a>\n",
    "    * <a href='#samplez_hype'>Hypotheis Test</a>\n",
    "    * <a href='#samplez_prop'>prop.test function in R</a>\n",
    "\n",
    "\n",
    "* <a href='#samplez_diff'>Large Sample z-test for Difference in Proportion</a>\n",
    "    * <a href='#hype_samplez_diff'>Hypotheis Test</a>\n",
    "    * <a href='#prop_samplez_diff'>prop.test function</a>\n",
    "    \n",
    "    \n",
    "* <a href='#samp_mean'>One sample t-test for population mean</a>\n",
    "    * <a href='#samp_mean_hype'>Hypothesis test</a>\n",
    "    \n",
    "    \n",
    "* <a href='#two_samp'>Two-sample tests</a>\n",
    "    * <a href='#two_samp_ue'>Two sample independent t-test for unequal variance</a>\n",
    "        * <a href='#two_samp_ue_hype'>Hypothesis Test</a>\n",
    "        \n",
    "    * <a href='#paired'>Paired t-test</a>\n",
    "    \n",
    "\n",
    "* <a href='#boot'>Bootstrap confidence intervals</a>\n",
    "\n",
    "\n",
    "* <a href='#rand'>Randomization tests</a>\n",
    "\n",
    "\n",
    "* <a href='#anova'>One-Way ANOVA</a>\n",
    "    * <a href='#anova'>ANOVA Hyptothesis Testing</a>\n",
    "    * <a href='#tukey'>Tukey HSD</a>\n",
    "    * <a href='#anova_val'>Checking ANOVA assumptions are met</a>\n",
    "    * <a href='#anova_res'>Results of ANOVA</a>\n",
    "    \n",
    "\n",
    "* <a href='#two_anova'>Two-Way ANOVA</a>\n",
    " "
   ]
  },
  {
   "cell_type": "code",
   "execution_count": 21,
   "metadata": {},
   "outputs": [],
   "source": [
    "# Packages to load\n",
    "library(tidyverse)\n",
    "library(Lock5Data)\n",
    "library(car)"
   ]
  },
  {
   "cell_type": "markdown",
   "metadata": {},
   "source": [
    "<a id='samplez'></a>"
   ]
  },
  {
   "cell_type": "markdown",
   "metadata": {},
   "source": [
    "## Large Sample z-test for a population proportion\n",
    "\n",
    "The data set we are looking at is the ChickWeight data set from the datasets package. The columns are: \n",
    "\n",
    "weight - a numeric vector giving the body weight of the chick (gm)  \n",
    "\n",
    "Time - a numeric vector giving the number of days since birth when the measurement was made.\n",
    "\n",
    "Chick - an ordered factor with levels 18 < ... < 48 giving a unique identifier for the chick. The ordering of the levels groups chicks on the same diet together and orders them according to their final weight (lightest to heaviest) within diet.\n",
    "\n",
    "Diet - a factor with levels 1, ..., 4 indicating which experimental diet the chick received.\n",
    "\n",
    "The problem that we are going to be tackling is that in a sample of 220 chicks, after going through diet 1 it was found that a certain number of chicks had a weight greater than 130. The people that provided the diet for the farmer claims that more than 30% of the chicks will weight greater than 130 gm. Find the amount of chicks with a weight greater than 130 and using a significance level equal to .05, test whether this claim is accurate or not."
   ]
  },
  {
   "cell_type": "code",
   "execution_count": 24,
   "metadata": {},
   "outputs": [
    {
     "data": {
      "text/html": [
       "<table>\n",
       "<thead><tr><th scope=col>weight</th><th scope=col>Time</th><th scope=col>Chick</th><th scope=col>Diet</th></tr></thead>\n",
       "<tbody>\n",
       "\t<tr><td>42</td><td> 0</td><td>1 </td><td>1 </td></tr>\n",
       "\t<tr><td>51</td><td> 2</td><td>1 </td><td>1 </td></tr>\n",
       "\t<tr><td>59</td><td> 4</td><td>1 </td><td>1 </td></tr>\n",
       "\t<tr><td>64</td><td> 6</td><td>1 </td><td>1 </td></tr>\n",
       "\t<tr><td>76</td><td> 8</td><td>1 </td><td>1 </td></tr>\n",
       "\t<tr><td>93</td><td>10</td><td>1 </td><td>1 </td></tr>\n",
       "</tbody>\n",
       "</table>\n"
      ],
      "text/latex": [
       "\\begin{tabular}{r|llll}\n",
       " weight & Time & Chick & Diet\\\\\n",
       "\\hline\n",
       "\t 42 &  0 & 1  & 1 \\\\\n",
       "\t 51 &  2 & 1  & 1 \\\\\n",
       "\t 59 &  4 & 1  & 1 \\\\\n",
       "\t 64 &  6 & 1  & 1 \\\\\n",
       "\t 76 &  8 & 1  & 1 \\\\\n",
       "\t 93 & 10 & 1  & 1 \\\\\n",
       "\\end{tabular}\n"
      ],
      "text/markdown": [
       "\n",
       "weight | Time | Chick | Diet | \n",
       "|---|---|---|---|---|---|\n",
       "| 42 |  0 | 1  | 1  | \n",
       "| 51 |  2 | 1  | 1  | \n",
       "| 59 |  4 | 1  | 1  | \n",
       "| 64 |  6 | 1  | 1  | \n",
       "| 76 |  8 | 1  | 1  | \n",
       "| 93 | 10 | 1  | 1  | \n",
       "\n",
       "\n"
      ],
      "text/plain": [
       "  weight Time Chick Diet\n",
       "1 42      0   1     1   \n",
       "2 51      2   1     1   \n",
       "3 59      4   1     1   \n",
       "4 64      6   1     1   \n",
       "5 76      8   1     1   \n",
       "6 93     10   1     1   "
      ]
     },
     "metadata": {},
     "output_type": "display_data"
    },
    {
     "name": "stdout",
     "output_type": "stream",
     "text": [
      "Classes 'nfnGroupedData', 'nfGroupedData', 'groupedData' and 'data.frame':\t578 obs. of  4 variables:\n",
      " $ weight: num  42 51 59 64 76 93 106 125 149 171 ...\n",
      " $ Time  : num  0 2 4 6 8 10 12 14 16 18 ...\n",
      " $ Chick : Ord.factor w/ 50 levels \"18\"<\"16\"<\"15\"<..: 15 15 15 15 15 15 15 15 15 15 ...\n",
      " $ Diet  : Factor w/ 4 levels \"1\",\"2\",\"3\",\"4\": 1 1 1 1 1 1 1 1 1 1 ...\n",
      " - attr(*, \"formula\")=Class 'formula'  language weight ~ Time | Chick\n",
      "  .. ..- attr(*, \".Environment\")=<environment: R_EmptyEnv> \n",
      " - attr(*, \"outer\")=Class 'formula'  language ~Diet\n",
      "  .. ..- attr(*, \".Environment\")=<environment: R_EmptyEnv> \n",
      " - attr(*, \"labels\")=List of 2\n",
      "  ..$ x: chr \"Time\"\n",
      "  ..$ y: chr \"Body weight\"\n",
      " - attr(*, \"units\")=List of 2\n",
      "  ..$ x: chr \"(days)\"\n",
      "  ..$ y: chr \"(gm)\"\n"
     ]
    }
   ],
   "source": [
    "#Load in the data and look over a little bit of the data\n",
    "data(ChickWeight)\n",
    "head(ChickWeight)\n",
    "str(ChickWeight)"
   ]
  },
  {
   "cell_type": "code",
   "execution_count": 18,
   "metadata": {},
   "outputs": [],
   "source": [
    "#Filter the data so we only are using chicks that went through diet 1 and chicks greater than 130\n",
    "chick <- filter(ChickWeight, Diet == 1)\n",
    "chick130 <- filter(ChickWeight, Diet == 1 & weight > 130)\n",
    "sample_size <- nrow(chick)\n",
    "greater130_size <- nrow(chick130)\n",
    "alpha <- .05\n",
    "prop  <- .30\n",
    "test_prop <- greater130_size / sample_size\n",
    "test_stat <- (test_prop - prop) / sqrt((prop * (1 - prop)) / sample_size)\n",
    "p_value <- 1 - pnorm(test_stat)\n",
    "conf_int <- c((test_prop - qnorm(1 - (alpha / 2)) * sqrt((test_prop * (1 - test_prop)) / sample_size)), (test_prop + qnorm(1 - (alpha / 2)) * sqrt((test_prop * (1 - test_prop)) / sample_size)))"
   ]
  },
  {
   "cell_type": "code",
   "execution_count": 19,
   "metadata": {},
   "outputs": [
    {
     "data": {
      "text/html": [
       "0.268181818181818"
      ],
      "text/latex": [
       "0.268181818181818"
      ],
      "text/markdown": [
       "0.268181818181818"
      ],
      "text/plain": [
       "[1] 0.2681818"
      ]
     },
     "metadata": {},
     "output_type": "display_data"
    },
    {
     "data": {
      "text/html": [
       "-1.02985730108887"
      ],
      "text/latex": [
       "-1.02985730108887"
      ],
      "text/markdown": [
       "-1.02985730108887"
      ],
      "text/plain": [
       "[1] -1.029857"
      ]
     },
     "metadata": {},
     "output_type": "display_data"
    },
    {
     "data": {
      "text/html": [
       "0.848461501351687"
      ],
      "text/latex": [
       "0.848461501351687"
      ],
      "text/markdown": [
       "0.848461501351687"
      ],
      "text/plain": [
       "[1] 0.8484615"
      ]
     },
     "metadata": {},
     "output_type": "display_data"
    },
    {
     "data": {
      "text/html": [
       "<ol class=list-inline>\n",
       "\t<li>0.209641778346864</li>\n",
       "\t<li>0.326721858016773</li>\n",
       "</ol>\n"
      ],
      "text/latex": [
       "\\begin{enumerate*}\n",
       "\\item 0.209641778346864\n",
       "\\item 0.326721858016773\n",
       "\\end{enumerate*}\n"
      ],
      "text/markdown": [
       "1. 0.209641778346864\n",
       "2. 0.326721858016773\n",
       "\n",
       "\n"
      ],
      "text/plain": [
       "[1] 0.2096418 0.3267219"
      ]
     },
     "metadata": {},
     "output_type": "display_data"
    }
   ],
   "source": [
    "# Results\n",
    "test_prop\n",
    "test_stat\n",
    "p_value\n",
    "conf_int"
   ]
  },
  {
   "cell_type": "markdown",
   "metadata": {},
   "source": [
    "<a id='samplez_hype'></a>"
   ]
  },
  {
   "cell_type": "markdown",
   "metadata": {},
   "source": [
    "### Hypotheis Test  for Large Sample z-test for a population proportion\n",
    "\n",
    "#### Assumptions:\n",
    "For this test, observations $x_{1}$, . . . , $x_{n}$ (a sequence of 0’s and 1’s) are a\n",
    "random sample from Bern(p) with p unknown and n is equal to the sample size.\n",
    "\n",
    "The sample size n is large enough to ensure that n$p_{0}$ ≥ 15 and\n",
    "n(1 − $p_{0}$) ≥ 15\n",
    "\n",
    "#### Hypothesis:\n",
    "$$H_{0}: p = .30$$\n",
    "\n",
    "$$H_{a}: p > .30$$\n",
    "\n",
    "\n",
    "#### Test Statistic:\n",
    "\n",
    "$$z=\\frac{\\hat{p}-p_{0}}{\\sqrt{\\frac{p_{0}(1-p_{0})}{n}}}$$\n",
    "\n",
    "$$z=-1.0298$$\n",
    "\n",
    "#### P_value:\n",
    "$$p-value = 0.848461501351687$$\n",
    "\n",
    "#### Conclusion:\n",
    "We fail to reject the null hypothesis at significance level of .05. This however does not mean we accept the alternative hypothesis and more testing need to be done\n",
    "\n",
    "#### Confidence Interval:\n",
    "\n",
    "$$\\hat{p}\\pm z_{(1-\\alpha/2)}\\sqrt{\\frac{\\hat{p}(1-\\hat{p})}{n}}$$\n",
    "\n",
    "For a 95% confidence interval, we are 95% confident that p is in the interval (0.209641778346864, 0.326721858016773), however, the probability that p is in this interval is either 0 or 1. This means that if we were to do this experiment over and over again we are confident that 95% of the time the true population proportion is in this range."
   ]
  },
  {
   "cell_type": "markdown",
   "metadata": {},
   "source": [
    "<a id='samplez_prop'></a>"
   ]
  },
  {
   "cell_type": "markdown",
   "metadata": {},
   "source": [
    "## Using R's prop.test\n",
    "\n",
    "We can also use R's built in prop.test function if we know the probability ahead of time. The example we will use this time is tossing a coin. Lets say you toss the coin 500 times and it only landed heads 200 times. Test at a .05 significance level if the coin is fair or in other words if the probability of landing heads is not 50%."
   ]
  },
  {
   "cell_type": "code",
   "execution_count": 62,
   "metadata": {},
   "outputs": [
    {
     "data": {
      "text/plain": [
       "\n",
       "\t1-sample proportions test with continuity correction\n",
       "\n",
       "data:  200 out of 500, null probability 0.5\n",
       "X-squared = 19.602, df = 1, p-value = 9.537e-06\n",
       "alternative hypothesis: true p is not equal to 0.5\n",
       "95 percent confidence interval:\n",
       " 0.3570044 0.4445558\n",
       "sample estimates:\n",
       "  p \n",
       "0.4 \n"
      ]
     },
     "metadata": {},
     "output_type": "display_data"
    }
   ],
   "source": [
    "## Prop.test\n",
    "prop.test(x = 200, n = 500, p = 0.5, alternative = \"two.sided\", conf.level = .95)"
   ]
  },
  {
   "cell_type": "markdown",
   "metadata": {},
   "source": [
    "#### Explanation of the results\n",
    "\n",
    "From the prop.test we get a nice layout of the results for the test. We see alternative hypothesis, p-value and the confidence interval as well. From this we can see that the p-value is much less than the .05 significance level and thus we reject the null hypothesis, and we conclude that there is enough statistical evidence to infer that the alternative hypothesis is true. "
   ]
  },
  {
   "cell_type": "markdown",
   "metadata": {},
   "source": [
    "<a id='samplez_diff'></a>"
   ]
  },
  {
   "cell_type": "markdown",
   "metadata": {},
   "source": [
    "## Large Sample z-test for Difference in Proportion"
   ]
  },
  {
   "cell_type": "markdown",
   "metadata": {},
   "source": [
    "The dataset we are looking at is the StatGrades dataset found in the Lock5Data package and it contains Stats test scores. The columns are:\n",
    "\n",
    "Exam1: Score (out of 100 points) on the first exam\n",
    "\n",
    "Exam2: Score (out of 100 points) on the second exam\n",
    "\n",
    "Final: Score (out of 100 points) on the final exam\n",
    "\n",
    "The problem that we are going to answer is if there is a greater chance that you will pass the first exam then the second exam where a passing grade is greater than or equal to 75."
   ]
  },
  {
   "cell_type": "code",
   "execution_count": 3,
   "metadata": {},
   "outputs": [
    {
     "data": {
      "text/html": [
       "<table>\n",
       "<thead><tr><th scope=col>Exam1</th><th scope=col>Exam2</th><th scope=col>Final</th></tr></thead>\n",
       "<tbody>\n",
       "\t<tr><td>91</td><td>86</td><td>90</td></tr>\n",
       "\t<tr><td>91</td><td>89</td><td>95</td></tr>\n",
       "\t<tr><td>80</td><td>72</td><td>81</td></tr>\n",
       "\t<tr><td>75</td><td>81</td><td>63</td></tr>\n",
       "\t<tr><td>73</td><td>82</td><td>83</td></tr>\n",
       "\t<tr><td>82</td><td>83</td><td>78</td></tr>\n",
       "</tbody>\n",
       "</table>\n"
      ],
      "text/latex": [
       "\\begin{tabular}{r|lll}\n",
       " Exam1 & Exam2 & Final\\\\\n",
       "\\hline\n",
       "\t 91 & 86 & 90\\\\\n",
       "\t 91 & 89 & 95\\\\\n",
       "\t 80 & 72 & 81\\\\\n",
       "\t 75 & 81 & 63\\\\\n",
       "\t 73 & 82 & 83\\\\\n",
       "\t 82 & 83 & 78\\\\\n",
       "\\end{tabular}\n"
      ],
      "text/markdown": [
       "\n",
       "Exam1 | Exam2 | Final | \n",
       "|---|---|---|---|---|---|\n",
       "| 91 | 86 | 90 | \n",
       "| 91 | 89 | 95 | \n",
       "| 80 | 72 | 81 | \n",
       "| 75 | 81 | 63 | \n",
       "| 73 | 82 | 83 | \n",
       "| 82 | 83 | 78 | \n",
       "\n",
       "\n"
      ],
      "text/plain": [
       "  Exam1 Exam2 Final\n",
       "1 91    86    90   \n",
       "2 91    89    95   \n",
       "3 80    72    81   \n",
       "4 75    81    63   \n",
       "5 73    82    83   \n",
       "6 82    83    78   "
      ]
     },
     "metadata": {},
     "output_type": "display_data"
    },
    {
     "name": "stdout",
     "output_type": "stream",
     "text": [
      "'data.frame':\t50 obs. of  3 variables:\n",
      " $ Exam1: int  91 91 80 75 73 82 89 47 77 91 ...\n",
      " $ Exam2: int  86 89 72 81 82 83 89 50 74 93 ...\n",
      " $ Final: int  90 95 81 63 83 78 90 74 77 103 ...\n"
     ]
    },
    {
     "data": {
      "text/plain": [
       "     Exam1           Exam2           Final      \n",
       " Min.   :47.00   Min.   :50.00   Min.   : 60.0  \n",
       " 1st Qu.:75.50   1st Qu.:78.00   1st Qu.: 80.0  \n",
       " Median :82.50   Median :86.00   Median : 87.5  \n",
       " Mean   :81.06   Mean   :83.12   Mean   : 85.5  \n",
       " 3rd Qu.:89.00   3rd Qu.:90.00   3rd Qu.: 92.0  \n",
       " Max.   :98.00   Max.   :95.00   Max.   :103.0  "
      ]
     },
     "metadata": {},
     "output_type": "display_data"
    }
   ],
   "source": [
    "#Look over the data\n",
    "data(StatGrades)\n",
    "head(StatGrades)\n",
    "str(StatGrades)\n",
    "summary(StatGrades)"
   ]
  },
  {
   "cell_type": "code",
   "execution_count": 15,
   "metadata": {},
   "outputs": [],
   "source": [
    "#Filter data\n",
    "alpha <- .05\n",
    "exam1_pass <- StatGrades %>% filter(Exam1 >= 75) %>% select(Exam1)\n",
    "exam2_pass <- StatGrades %>% filter(Exam2 >= 75) %>% select(Exam1)\n",
    "size_pass1 <- nrow(exam1_pass)\n",
    "size_pass2 <- nrow(exam2_pass)\n",
    "samp_size <- nrow(StatGrades)\n",
    "samp_prop1 <- size_pass1 / samp_size\n",
    "samp_prop2 <- size_pass2 / samp_size\n",
    "p_hat  <- (size_pass1*samp_prop1 + size_pass2*samp_prop2)/(size_pass1 +size_pass2)\n",
    "test_stat <- (samp_prop1 - samp_prop2) / sqrt(p_hat*(1-p_hat)*((1/size_pass1)+(1/size_pass2)))\n",
    "p_value  <- 1 - pnorm(test_stat)\n",
    "conf_int2 <- c((samp_prop1 - samp_prop2) - qnorm(1 - (alpha/2))*sqrt(((samp_prop1*(1-samp_prop1))/size_pass1) + ((samp_prop2*(1-samp_prop2))/size_pass2)), (samp_prop1 - samp_prop2) + qnorm(1 - (alpha/2))*sqrt(((samp_prop1*(1-samp_prop1))/size_pass1) + ((samp_prop2*(1-samp_prop2))/size_pass2)))\n",
    "conf_int <- c((samp_prop1 - samp_prop2) - qnorm(1 - (alpha/2))*sqrt(p_hat*(1-p_hat)*((1/size_pass1)+(1/size_pass2))), (samp_prop1 - samp_prop2) + qnorm(1 - (alpha/2))*sqrt(p_hat*(1-p_hat)*((1/size_pass1)+(1/size_pass2))))"
   ]
  },
  {
   "cell_type": "code",
   "execution_count": 16,
   "metadata": {},
   "outputs": [
    {
     "data": {
      "text/html": [
       "-0.471763853242795"
      ],
      "text/latex": [
       "-0.471763853242795"
      ],
      "text/markdown": [
       "-0.471763853242795"
      ],
      "text/plain": [
       "[1] -0.4717639"
      ]
     },
     "metadata": {},
     "output_type": "display_data"
    },
    {
     "data": {
      "text/html": [
       "0.68145232283435"
      ],
      "text/latex": [
       "0.68145232283435"
      ],
      "text/markdown": [
       "0.68145232283435"
      ],
      "text/plain": [
       "[1] 0.6814523"
      ]
     },
     "metadata": {},
     "output_type": "display_data"
    },
    {
     "data": {
      "text/html": [
       "<ol class=list-inline>\n",
       "\t<li>-0.206181785320576</li>\n",
       "\t<li>0.126181785320576</li>\n",
       "</ol>\n"
      ],
      "text/latex": [
       "\\begin{enumerate*}\n",
       "\\item -0.206181785320576\n",
       "\\item 0.126181785320576\n",
       "\\end{enumerate*}\n"
      ],
      "text/markdown": [
       "1. -0.206181785320576\n",
       "2. 0.126181785320576\n",
       "\n",
       "\n"
      ],
      "text/plain": [
       "[1] -0.2061818  0.1261818"
      ]
     },
     "metadata": {},
     "output_type": "display_data"
    },
    {
     "data": {
      "text/html": [
       "<ol class=list-inline>\n",
       "\t<li>-0.206308458921961</li>\n",
       "\t<li>0.126308458921961</li>\n",
       "</ol>\n"
      ],
      "text/latex": [
       "\\begin{enumerate*}\n",
       "\\item -0.206308458921961\n",
       "\\item 0.126308458921961\n",
       "\\end{enumerate*}\n"
      ],
      "text/markdown": [
       "1. -0.206308458921961\n",
       "2. 0.126308458921961\n",
       "\n",
       "\n"
      ],
      "text/plain": [
       "[1] -0.2063085  0.1263085"
      ]
     },
     "metadata": {},
     "output_type": "display_data"
    }
   ],
   "source": [
    "#Results\n",
    "test_stat\n",
    "p_value\n",
    "conf_int\n",
    "conf_int2"
   ]
  },
  {
   "cell_type": "markdown",
   "metadata": {},
   "source": [
    "<a id='hype_samplez_diff'></a>"
   ]
  },
  {
   "cell_type": "markdown",
   "metadata": {},
   "source": [
    "### Hypotheis Test  for Large Sample z-test for difference in proportions\n",
    "\n",
    "#### Assumptions: \n",
    "$x_{11}$, . . . , $x_{1n_{1}}$ and $x_{21}$, . . . , $x_{2n_{2}}$\n",
    "are random samples from two independent Bernoulli populations Bern($p_{1}$) and Bern($p_{2}$)\n",
    "respectively with at least 10 successes and 10 failures in both groups.\n",
    "\n",
    "$$ n_{1}\\hat{p_{1}}\\geq 10,\\quad n_{1}(1−\\hat{p_{1}})\\geq 10 \\quad and \\quad n_{2}\\hat{p_{2}}\\geq 10,\\quad n_{2}(1−\\hat{p_{2}})\\geq 10$$\n",
    "\n",
    "#### Hypothesis\n",
    "$$H_{0}: p_{1} - p_{2} = 0$$\n",
    "\n",
    "$$H_{a}: p_{1} - p_{2} > 0$$\n",
    "\n",
    "#### Test Statistic\n",
    "\n",
    "$$z=\\frac{\\hat{p_{1}}-\\hat{p_{2}}-0}{\\sqrt{\\hat{p}(1 - \\hat{p})(1/n_{1} + 1/n_{2})}}$$\n",
    "\n",
    "where $\\hat{p} = (n_{1}\\hat{p_{1}} + n_{2}\\hat{p_{2}})/(n_{1} + n_{2})$\n",
    "\n",
    "$$ z= -0.471763853242795$$\n",
    "\n",
    "#### P-value\n",
    "\n",
    "$$p-value = 0.68145232283435$$\n",
    "\n",
    "#### Conclusion \n",
    "\n",
    "Because the p-value is found to be greater than the .05 significance level, we fail to reject the null hypothesis and we can not conclude whether or not the their is a higher chance to pass the first exam compared to the second one.\n",
    "\n",
    "#### Confidence Interval\n",
    "\n",
    "$$(\\hat{p_{1}}-\\hat{p_{2}})\\pm z_{(1-\\alpha/2)}SE$$\n",
    "\n",
    "Where SE is the denominator of the test statistics (didn't want to write the Latex of it :p)"
   ]
  },
  {
   "cell_type": "markdown",
   "metadata": {},
   "source": [
    "<a id='prop_samplez_diff'></a>"
   ]
  },
  {
   "cell_type": "markdown",
   "metadata": {},
   "source": [
    "## Using prop.test\n",
    "\n",
    "Just like in the large sample z test for population proportion we can do most of these calculation using prop.test except this time the parameters will be taking a list of the proportions and also each of the proportions sample size. We will have a nicely laid out example with all the values we need. Lets say we want to see if mean and women are equally likely to go to a a 4 year college after high school. 12000 people are sampled where 5622 are men and 6378 are women and out of those men 3004 went to college while 4234 went to college on the womens side. Test whether this claim is true."
   ]
  },
  {
   "cell_type": "code",
   "execution_count": 24,
   "metadata": {},
   "outputs": [
    {
     "data": {
      "text/plain": [
       "\n",
       "\t2-sample test for equality of proportions with continuity correction\n",
       "\n",
       "data:  c(men_coll, women_coll) out of c(samp_men, samp_women)\n",
       "X-squared = 208.87, df = 1, p-value < 2.2e-16\n",
       "alternative hypothesis: two.sided\n",
       "95 percent confidence interval:\n",
       " -0.1471301 -0.1119000\n",
       "sample estimates:\n",
       "   prop 1    prop 2 \n",
       "0.5343294 0.6638445 \n"
      ]
     },
     "metadata": {},
     "output_type": "display_data"
    }
   ],
   "source": [
    "men_coll <- 3004\n",
    "women_coll <- 4234\n",
    "samp_men <- 5622\n",
    "samp_women <- 6378\n",
    "prop.test(x = c(men_coll, women_coll), n = c(samp_men, samp_women), alternative = 'two.sided')"
   ]
  },
  {
   "cell_type": "markdown",
   "metadata": {},
   "source": [
    "#### Results\n",
    "From this we can now make a conclusion that with p-value less than the .05 significance value, we can reject the null hypothesis and conclude that there is statistical evidence towards the two population proportions not being equal. In other words males and females seem to not have the same proportion of going to college."
   ]
  },
  {
   "cell_type": "markdown",
   "metadata": {},
   "source": [
    "<a id='samp_mean'></a>"
   ]
  },
  {
   "cell_type": "markdown",
   "metadata": {},
   "source": [
    "#### Disclaimer\n",
    "In the following sections we will be focusing more on the functions and will not be writing out the formulas anymore (I got tired writing so much Latex haha). If you want to know the formulas pleas google them."
   ]
  },
  {
   "cell_type": "markdown",
   "metadata": {},
   "source": [
    "## One sample t-test for a population mean\n",
    "\n",
    "The data set we will be using is the FloridaLakes dataset in the Lock5Data package and we will test to see if this sample provides evidence that the average alkalinity of all Florida lakes is greater than 40 mg/L. We will be using the t.test function in R"
   ]
  },
  {
   "cell_type": "code",
   "execution_count": 7,
   "metadata": {},
   "outputs": [
    {
     "data": {
      "text/html": [
       "<table>\n",
       "<thead><tr><th scope=col>ID</th><th scope=col>Lake</th><th scope=col>Alkalinity</th><th scope=col>pH</th><th scope=col>Calcium</th><th scope=col>Chlorophyll</th><th scope=col>AvgMercury</th><th scope=col>NumSamples</th><th scope=col>MinMercury</th><th scope=col>MaxMercury</th><th scope=col>ThreeYrStdMercury</th><th scope=col>AgeData</th></tr></thead>\n",
       "<tbody>\n",
       "\t<tr><td>1           </td><td>Alligator   </td><td>  5.9       </td><td>6.1         </td><td> 3.0        </td><td>  0.7       </td><td>1.23        </td><td> 5          </td><td>0.85        </td><td>1.43        </td><td>1.53        </td><td>1           </td></tr>\n",
       "\t<tr><td>2           </td><td>Annie       </td><td>  3.5       </td><td>5.1         </td><td> 1.9        </td><td>  3.2       </td><td>1.33        </td><td> 7          </td><td>0.92        </td><td>1.90        </td><td>1.33        </td><td>0           </td></tr>\n",
       "\t<tr><td>3           </td><td>Apopka      </td><td>116.0       </td><td>9.1         </td><td>44.1        </td><td>128.3       </td><td>0.04        </td><td> 6          </td><td>0.04        </td><td>0.06        </td><td>0.04        </td><td>0           </td></tr>\n",
       "\t<tr><td>4           </td><td>Blue Cypress</td><td> 39.4       </td><td>6.9         </td><td>16.4        </td><td>  3.5       </td><td>0.44        </td><td>12          </td><td>0.13        </td><td>0.84        </td><td>0.44        </td><td>0           </td></tr>\n",
       "\t<tr><td>5           </td><td>Brick       </td><td>  2.5       </td><td>4.6         </td><td> 2.9        </td><td>  1.8       </td><td>1.20        </td><td>12          </td><td>0.69        </td><td>1.50        </td><td>1.33        </td><td>1           </td></tr>\n",
       "\t<tr><td>6           </td><td>Bryant      </td><td> 19.6       </td><td>7.3         </td><td> 4.5        </td><td> 44.1       </td><td>0.27        </td><td>14          </td><td>0.04        </td><td>0.48        </td><td>0.25        </td><td>1           </td></tr>\n",
       "</tbody>\n",
       "</table>\n"
      ],
      "text/latex": [
       "\\begin{tabular}{r|llllllllllll}\n",
       " ID & Lake & Alkalinity & pH & Calcium & Chlorophyll & AvgMercury & NumSamples & MinMercury & MaxMercury & ThreeYrStdMercury & AgeData\\\\\n",
       "\\hline\n",
       "\t 1            & Alligator    &   5.9        & 6.1          &  3.0         &   0.7        & 1.23         &  5           & 0.85         & 1.43         & 1.53         & 1           \\\\\n",
       "\t 2            & Annie        &   3.5        & 5.1          &  1.9         &   3.2        & 1.33         &  7           & 0.92         & 1.90         & 1.33         & 0           \\\\\n",
       "\t 3            & Apopka       & 116.0        & 9.1          & 44.1         & 128.3        & 0.04         &  6           & 0.04         & 0.06         & 0.04         & 0           \\\\\n",
       "\t 4            & Blue Cypress &  39.4        & 6.9          & 16.4         &   3.5        & 0.44         & 12           & 0.13         & 0.84         & 0.44         & 0           \\\\\n",
       "\t 5            & Brick        &   2.5        & 4.6          &  2.9         &   1.8        & 1.20         & 12           & 0.69         & 1.50         & 1.33         & 1           \\\\\n",
       "\t 6            & Bryant       &  19.6        & 7.3          &  4.5         &  44.1        & 0.27         & 14           & 0.04         & 0.48         & 0.25         & 1           \\\\\n",
       "\\end{tabular}\n"
      ],
      "text/markdown": [
       "\n",
       "ID | Lake | Alkalinity | pH | Calcium | Chlorophyll | AvgMercury | NumSamples | MinMercury | MaxMercury | ThreeYrStdMercury | AgeData | \n",
       "|---|---|---|---|---|---|\n",
       "| 1            | Alligator    |   5.9        | 6.1          |  3.0         |   0.7        | 1.23         |  5           | 0.85         | 1.43         | 1.53         | 1            | \n",
       "| 2            | Annie        |   3.5        | 5.1          |  1.9         |   3.2        | 1.33         |  7           | 0.92         | 1.90         | 1.33         | 0            | \n",
       "| 3            | Apopka       | 116.0        | 9.1          | 44.1         | 128.3        | 0.04         |  6           | 0.04         | 0.06         | 0.04         | 0            | \n",
       "| 4            | Blue Cypress |  39.4        | 6.9          | 16.4         |   3.5        | 0.44         | 12           | 0.13         | 0.84         | 0.44         | 0            | \n",
       "| 5            | Brick        |   2.5        | 4.6          |  2.9         |   1.8        | 1.20         | 12           | 0.69         | 1.50         | 1.33         | 1            | \n",
       "| 6            | Bryant       |  19.6        | 7.3          |  4.5         |  44.1        | 0.27         | 14           | 0.04         | 0.48         | 0.25         | 1            | \n",
       "\n",
       "\n"
      ],
      "text/plain": [
       "  ID Lake         Alkalinity pH  Calcium Chlorophyll AvgMercury NumSamples\n",
       "1 1  Alligator      5.9      6.1  3.0      0.7       1.23        5        \n",
       "2 2  Annie          3.5      5.1  1.9      3.2       1.33        7        \n",
       "3 3  Apopka       116.0      9.1 44.1    128.3       0.04        6        \n",
       "4 4  Blue Cypress  39.4      6.9 16.4      3.5       0.44       12        \n",
       "5 5  Brick          2.5      4.6  2.9      1.8       1.20       12        \n",
       "6 6  Bryant        19.6      7.3  4.5     44.1       0.27       14        \n",
       "  MinMercury MaxMercury ThreeYrStdMercury AgeData\n",
       "1 0.85       1.43       1.53              1      \n",
       "2 0.92       1.90       1.33              0      \n",
       "3 0.04       0.06       0.04              0      \n",
       "4 0.13       0.84       0.44              0      \n",
       "5 0.69       1.50       1.33              1      \n",
       "6 0.04       0.48       0.25              1      "
      ]
     },
     "metadata": {},
     "output_type": "display_data"
    },
    {
     "data": {
      "text/plain": [
       "\n",
       "\tOne Sample t-test\n",
       "\n",
       "data:  FloridaLakes$Alkalinity\n",
       "t = 2.3878, df = 52, p-value = 0.01031\n",
       "alternative hypothesis: true mean is greater than 25\n",
       "95 percent confidence interval:\n",
       " 28.74199      Inf\n",
       "sample estimates:\n",
       "mean of x \n",
       " 37.53019 \n"
      ]
     },
     "metadata": {},
     "output_type": "display_data"
    }
   ],
   "source": [
    "data(FloridaLakes)\n",
    "head(FloridaLakes)\n",
    "t.test(FloridaLakes$Alkalinity, alternative = 'greater', mu = 25)"
   ]
  },
  {
   "cell_type": "markdown",
   "metadata": {},
   "source": [
    "<a id='samp_mean_hype'></a>"
   ]
  },
  {
   "cell_type": "markdown",
   "metadata": {},
   "source": [
    "### Hypothesis test\n",
    "\n",
    "#### Assumptions:\n",
    "\n",
    "Observations $x_{1}$, . . . , $x_{n}$ are a random sample from the normal distribution N(µ, σ)\n",
    "\n",
    "#### Hypothesis:\n",
    "\n",
    "$$H_{0}: µ > 30$$\n",
    "$$H_{a}: µ > 30$$\n",
    "\n",
    "#### T-test:\n",
    "\n",
    "$$ t = 2.3878$$\n",
    "\n",
    "*We use this test when σ is not known\n",
    "\n",
    "#### P-value:\n",
    "\n",
    "$$ p-value = 0.01031$$\n",
    "\n",
    "#### Conclusion:\n",
    "\n",
    "Because the p-value is less than the .05 significance level, we can reject the null hypothesis and conclude that we have enough statistical evidence that the claim is true.\n"
   ]
  },
  {
   "cell_type": "markdown",
   "metadata": {},
   "source": [
    "<a id='two_samp'></a>"
   ]
  },
  {
   "cell_type": "markdown",
   "metadata": {},
   "source": [
    "## Two Sample t-test for difference in means\n",
    "\n",
    "We will belooking mainly at two different ways to do this kind of test. The first will focus on when the two samples are independent and they both have unequal variance(Two-sample independent t-test). One example is the exam score of students trained with method 1 to those trained with method 2.\n",
    "\n",
    "The second test we will be looking at is when the two samples are not independent and are connected with some sort of treatment or effect. For example, the before and after of students that got a certain learning program and see how well this program worked. This test is called the paired t-test."
   ]
  },
  {
   "cell_type": "markdown",
   "metadata": {},
   "source": [
    "<a id='two_samp_ue'></a>"
   ]
  },
  {
   "cell_type": "markdown",
   "metadata": {},
   "source": [
    "### Two sample independent t-test for unequal variance\n",
    "\n",
    "#### Rationale\n",
    "Usually we would choose the test for unequal variance when there were unequal sample size between the independent sample and choose equal when there were equal sample sizes. However much research has been done on this topic and it has shown that the t-test for unequal variance for two independent samples(Welch Test) performs better than Student's t-test whenever sample sizes and variances are unequal between groups, and gives the same result when sample sizes and variances are equal. except when the sample sizes are very small(5 subjects or less). \n",
    "\n",
    "Great resource that looks more into this: http://daniellakens.blogspot.com.es/2015/01/always-use-welchs-t-test-instead-of.html\n",
    "\n",
    "#### Example\n",
    "\n",
    "We will be looking at the ColaCalcium dataset in the Lock5Data and the questions we will try to answer is if the calcium level in diet cola is greater than the calcium level in water."
   ]
  },
  {
   "cell_type": "code",
   "execution_count": 14,
   "metadata": {},
   "outputs": [
    {
     "data": {
      "text/html": [
       "<table>\n",
       "<thead><tr><th scope=col>Drink</th><th scope=col>Calcium</th></tr></thead>\n",
       "<tbody>\n",
       "\t<tr><td>Diet cola</td><td>50       </td></tr>\n",
       "\t<tr><td>Diet cola</td><td>62       </td></tr>\n",
       "\t<tr><td>Diet cola</td><td>48       </td></tr>\n",
       "\t<tr><td>Diet cola</td><td>55       </td></tr>\n",
       "\t<tr><td>Diet cola</td><td>58       </td></tr>\n",
       "\t<tr><td>Diet cola</td><td>61       </td></tr>\n",
       "</tbody>\n",
       "</table>\n"
      ],
      "text/latex": [
       "\\begin{tabular}{r|ll}\n",
       " Drink & Calcium\\\\\n",
       "\\hline\n",
       "\t Diet cola & 50       \\\\\n",
       "\t Diet cola & 62       \\\\\n",
       "\t Diet cola & 48       \\\\\n",
       "\t Diet cola & 55       \\\\\n",
       "\t Diet cola & 58       \\\\\n",
       "\t Diet cola & 61       \\\\\n",
       "\\end{tabular}\n"
      ],
      "text/markdown": [
       "\n",
       "Drink | Calcium | \n",
       "|---|---|---|---|---|---|\n",
       "| Diet cola | 50        | \n",
       "| Diet cola | 62        | \n",
       "| Diet cola | 48        | \n",
       "| Diet cola | 55        | \n",
       "| Diet cola | 58        | \n",
       "| Diet cola | 61        | \n",
       "\n",
       "\n"
      ],
      "text/plain": [
       "  Drink     Calcium\n",
       "1 Diet cola 50     \n",
       "2 Diet cola 62     \n",
       "3 Diet cola 48     \n",
       "4 Diet cola 55     \n",
       "5 Diet cola 58     \n",
       "6 Diet cola 61     "
      ]
     },
     "metadata": {},
     "output_type": "display_data"
    },
    {
     "name": "stdout",
     "output_type": "stream",
     "text": [
      "'data.frame':\t16 obs. of  2 variables:\n",
      " $ Drink  : Factor w/ 2 levels \"Diet cola\",\"Water\": 1 1 1 1 1 1 1 1 2 2 ...\n",
      " $ Calcium: int  50 62 48 55 58 61 58 56 48 46 ...\n"
     ]
    },
    {
     "data": {
      "text/plain": [
       "\n",
       "\tWelch Two Sample t-test\n",
       "\n",
       "data:  Calcium by Drink\n",
       "t = 3.1732, df = 12.89, p-value = 0.003703\n",
       "alternative hypothesis: true difference in means is greater than 0\n",
       "95 percent confidence interval:\n",
       " 3.035583      Inf\n",
       "sample estimates:\n",
       "mean in group Diet cola     mean in group Water \n",
       "                 56.000                  49.125 \n"
      ]
     },
     "metadata": {},
     "output_type": "display_data"
    }
   ],
   "source": [
    "##Review data and conduct test\n",
    "data(ColaCalcium)\n",
    "head(ColaCalcium)\n",
    "str(ColaCalcium)\n",
    "t.test(Calcium~Drink, ColaCalcium, alternative = 'greater')"
   ]
  },
  {
   "cell_type": "markdown",
   "metadata": {},
   "source": [
    "<a id='two_samp_ue_hype'></a>"
   ]
  },
  {
   "cell_type": "markdown",
   "metadata": {},
   "source": [
    "### Hypothesis test\n",
    "\n",
    "#### Assumptions:\n",
    "Observations $x_{11}$, . . . , $x_{1n_{1}}$ and $x_{21}$, . . . , $x_{2n_{2}}$\n",
    "are random samples from two distinct normal populations N($µ_{1}$, $σ_{1}$) and N($µ_{2}$, $σ_{2}$).\n",
    "\n",
    "#### Hypothesis:\n",
    "\n",
    "$$H_{0}: \\mu_{1} - \\mu_{2} = 0$$\n",
    "$$H_{a}: \\mu_{1} - \\mu_{2} > 0$$\n",
    "\n",
    "#### T-statistic:\n",
    "\n",
    "$$t = 3.1732$$\n",
    "\n",
    "#### P-value\n",
    "\n",
    "$$p-value = 0.003703$$\n",
    "\n",
    "#### Conclusion:\n",
    "\n",
    "\n",
    "\n",
    "\n",
    "\n"
   ]
  },
  {
   "cell_type": "markdown",
   "metadata": {},
   "source": [
    "<a id=\"paired\"></a>"
   ]
  },
  {
   "cell_type": "markdown",
   "metadata": {},
   "source": [
    "### Paired t-test for difference in means\n",
    "\n",
    "We will be using the Wetsuits dataset from the Lock5Data package. From this we will see whether their is a difference between the max velocity of swimmers swimming with a wetsuit and the smae swimmers swimming without one."
   ]
  },
  {
   "cell_type": "code",
   "execution_count": 18,
   "metadata": {},
   "outputs": [
    {
     "data": {
      "text/html": [
       "<table>\n",
       "<thead><tr><th scope=col>Wetsuit</th><th scope=col>NoWetsuit</th><th scope=col>Gender</th><th scope=col>Type</th></tr></thead>\n",
       "<tbody>\n",
       "\t<tr><td>1.57      </td><td>1.49      </td><td>F         </td><td>swimmer   </td></tr>\n",
       "\t<tr><td>1.47      </td><td>1.37      </td><td>F         </td><td>triathlete</td></tr>\n",
       "\t<tr><td>1.42      </td><td>1.35      </td><td>F         </td><td>swimmer   </td></tr>\n",
       "\t<tr><td>1.35      </td><td>1.27      </td><td>F         </td><td>triathlete</td></tr>\n",
       "\t<tr><td>1.22      </td><td>1.12      </td><td>M         </td><td>triathlete</td></tr>\n",
       "\t<tr><td>1.75      </td><td>1.64      </td><td>M         </td><td>swimmer   </td></tr>\n",
       "</tbody>\n",
       "</table>\n"
      ],
      "text/latex": [
       "\\begin{tabular}{r|llll}\n",
       " Wetsuit & NoWetsuit & Gender & Type\\\\\n",
       "\\hline\n",
       "\t 1.57       & 1.49       & F          & swimmer   \\\\\n",
       "\t 1.47       & 1.37       & F          & triathlete\\\\\n",
       "\t 1.42       & 1.35       & F          & swimmer   \\\\\n",
       "\t 1.35       & 1.27       & F          & triathlete\\\\\n",
       "\t 1.22       & 1.12       & M          & triathlete\\\\\n",
       "\t 1.75       & 1.64       & M          & swimmer   \\\\\n",
       "\\end{tabular}\n"
      ],
      "text/markdown": [
       "\n",
       "Wetsuit | NoWetsuit | Gender | Type | \n",
       "|---|---|---|---|---|---|\n",
       "| 1.57       | 1.49       | F          | swimmer    | \n",
       "| 1.47       | 1.37       | F          | triathlete | \n",
       "| 1.42       | 1.35       | F          | swimmer    | \n",
       "| 1.35       | 1.27       | F          | triathlete | \n",
       "| 1.22       | 1.12       | M          | triathlete | \n",
       "| 1.75       | 1.64       | M          | swimmer    | \n",
       "\n",
       "\n"
      ],
      "text/plain": [
       "  Wetsuit NoWetsuit Gender Type      \n",
       "1 1.57    1.49      F      swimmer   \n",
       "2 1.47    1.37      F      triathlete\n",
       "3 1.42    1.35      F      swimmer   \n",
       "4 1.35    1.27      F      triathlete\n",
       "5 1.22    1.12      M      triathlete\n",
       "6 1.75    1.64      M      swimmer   "
      ]
     },
     "metadata": {},
     "output_type": "display_data"
    },
    {
     "name": "stdout",
     "output_type": "stream",
     "text": [
      "'data.frame':\t12 obs. of  4 variables:\n",
      " $ Wetsuit  : num  1.57 1.47 1.42 1.35 1.22 1.75 1.64 1.57 1.56 1.53 ...\n",
      " $ NoWetsuit: num  1.49 1.37 1.35 1.27 1.12 1.64 1.59 1.52 1.5 1.45 ...\n",
      " $ Gender   : Factor w/ 2 levels \"F\",\"M\": 1 1 1 1 2 2 2 2 2 2 ...\n",
      " $ Type     : Factor w/ 2 levels \"swimmer\",\"triathlete\": 1 2 1 2 2 1 1 2 2 2 ...\n"
     ]
    },
    {
     "data": {
      "text/plain": [
       "\n",
       "\tPaired t-test\n",
       "\n",
       "data:  Wetsuits$Wetsuit and Wetsuits$NoWetsuit\n",
       "t = 12.318, df = 11, p-value = 8.885e-08\n",
       "alternative hypothesis: true difference in means is not equal to 0\n",
       "95 percent confidence interval:\n",
       " 0.06365244 0.09134756\n",
       "sample estimates:\n",
       "mean of the differences \n",
       "                 0.0775 \n"
      ]
     },
     "metadata": {},
     "output_type": "display_data"
    }
   ],
   "source": [
    "data(Wetsuits)\n",
    "head(Wetsuits)\n",
    "str(Wetsuits)\n",
    "t.test(Wetsuits$Wetsuit, Wetsuits$NoWetsuit, paired = TRUE)"
   ]
  },
  {
   "cell_type": "markdown",
   "metadata": {},
   "source": [
    "### Conclusion\n",
    "\n",
    "The p-value found was less than the .05 significane level, thus we can reject the null hypotheis that the difference in means is equal to 0 and conclude that the true differnece between the two methods is not equal to 0. We see that their is a difference when swimming withthe wetsuit and without the wetsuit."
   ]
  },
  {
   "cell_type": "markdown",
   "metadata": {},
   "source": [
    "<a id='boot'></a>"
   ]
  },
  {
   "cell_type": "markdown",
   "metadata": {},
   "source": [
    "## Randomization Test(Monte Carlo Permutation test)\n",
    "\n",
    "Randomization tests rely on fewer assumptions than do common parametric tests (such as the t-test) and so can be used when\n",
    "requirements for parametric tests are not satisfied, and they can sometimes be more powerful than common\n",
    "rank-based nonparametric tests and so also can be used when typical nonparametric tests are not desired.\n",
    "\n",
    "We will be seing how powerful the test is in comparison to a one sample t-test and also look at how to implment a randomization test and the bootstrap confidence interval in R."
   ]
  },
  {
   "cell_type": "markdown",
   "metadata": {},
   "source": [
    "### Bootstrap confidence interval\n",
    "\n",
    "We use the bootstrap confidence interval on some values of samples such as st. dev., correlation, and other metrics in order to get the sampling distribution from one samaple without the need to have assumptions met that usually are very loosely met. We will be looking at how to code this confidence interval in R.\n",
    "\n",
    "(1-α)% confidence interval using t distribtution(we can use other distributions too:\n",
    "\n",
    "$$Stat_{PE}\\pm t_{1-\\alpha/2,n-1}*SE_{boot}$$"
   ]
  },
  {
   "cell_type": "code",
   "execution_count": 18,
   "metadata": {},
   "outputs": [
    {
     "name": "stdout",
     "output_type": "stream",
     "text": [
      "'data.frame':\t110 obs. of  4 variables:\n",
      " $ population: int  675 713 NA 534 1261 1330 331 1981 315 305 ...\n",
      " $ nonwhite  : num  7.3 2.6 3.3 0.8 1.4 22.8 7 21.6 20.7 0.6 ...\n",
      " $ density   : int  746 322 NA 491 1612 770 41 877 240 147 ...\n",
      " $ crime     : int  2602 1388 5018 1182 3341 2805 3306 4256 2117 1063 ...\n"
     ]
    },
    {
     "data": {
      "text/plain": [
       "   population         nonwhite        density            crime     \n",
       " Min.   :  270.0   Min.   : 0.30   Min.   :   37.0   Min.   : 458  \n",
       " 1st Qu.:  398.8   1st Qu.: 3.40   1st Qu.:  266.5   1st Qu.:2067  \n",
       " Median :  664.0   Median : 7.20   Median :  412.0   Median :2698  \n",
       " Mean   : 1136.0   Mean   :10.80   Mean   :  765.7   Mean   :2714  \n",
       " 3rd Qu.: 1167.8   3rd Qu.:14.88   3rd Qu.:  773.2   3rd Qu.:3305  \n",
       " Max.   :11551.0   Max.   :64.30   Max.   :13087.0   Max.   :5441  \n",
       " NA's   :10                        NA's   :10                      "
      ]
     },
     "metadata": {},
     "output_type": "display_data"
    }
   ],
   "source": [
    "#By Hand\n",
    "#### First get Freedman dataset from cars library\n",
    "data(Freedman)\n",
    "summary(Freedman)\n",
    "Freedman <- na.omit(Freedman)"
   ]
  },
  {
   "cell_type": "code",
   "execution_count": 23,
   "metadata": {},
   "outputs": [
    {
     "data": {
      "text/plain": [
       "   population         nonwhite        density            crime     \n",
       " Min.   :  270.0   Min.   : 0.30   Min.   :   37.0   Min.   : 458  \n",
       " 1st Qu.:  398.8   1st Qu.: 3.40   1st Qu.:  266.5   1st Qu.:2100  \n",
       " Median :  664.0   Median : 7.30   Median :  412.0   Median :2762  \n",
       " Mean   : 1136.0   Mean   :10.66   Mean   :  765.7   Mean   :2733  \n",
       " 3rd Qu.: 1167.8   3rd Qu.:14.82   3rd Qu.:  773.2   3rd Qu.:3318  \n",
       " Max.   :11551.0   Max.   :64.30   Max.   :13087.0   Max.   :5441  "
      ]
     },
     "metadata": {},
     "output_type": "display_data"
    },
    {
     "data": {
      "text/html": [
       "0.11222828354642"
      ],
      "text/latex": [
       "0.11222828354642"
      ],
      "text/markdown": [
       "0.11222828354642"
      ],
      "text/plain": [
       "[1] 0.1122283"
      ]
     },
     "metadata": {},
     "output_type": "display_data"
    },
    {
     "data": {
      "text/html": [
       "100"
      ],
      "text/latex": [
       "100"
      ],
      "text/markdown": [
       "100"
      ],
      "text/plain": [
       "[1] 100"
      ]
     },
     "metadata": {},
     "output_type": "display_data"
    }
   ],
   "source": [
    "#We have omitted all the NA values now lets find the correlation between density  and the crime for a city\n",
    "summary(Freedman)\n",
    "cor(Freedman$density, Freedman$crime)\n",
    "nrow(Freedman)"
   ]
  },
  {
   "cell_type": "code",
   "execution_count": 34,
   "metadata": {},
   "outputs": [
    {
     "data": {
      "image/png": "[encoded data removed]",
      "text/plain": [
       "Plot with title \"Histogram of boot_dist\""
      ]
     },
     "metadata": {},
     "output_type": "display_data"
    }
   ],
   "source": [
    "#Not that much of a correlation now lets make a bootstrap confidence interval for the correlation\n",
    "cor_boot <- function(num_boot, samp_size, x, y){\n",
    "    \n",
    "    boot_dist <- rep(NA, num_boot)\n",
    "    #Dont usually want to use for loops in R, will later fix to apply function\n",
    "    for (i in 1:num_boot){\n",
    "        #Sample with replacement the sample size \n",
    "        boot_sample<-sample(samp_size, replace = TRUE)\n",
    "        #For each of the samples we find the correlations and put it into the list\n",
    "        boot_dist[i]<-cor(x[boot_sample], y[boot_sample])\n",
    "    }\n",
    "    \n",
    "    hist(boot_dist)\n",
    "    return(boot_dist)\n",
    "}\n",
    "\n",
    "boot_dist <- cor_boot(5000, nrow(Freedman), Freedman$density, Freedman$crime)"
   ]
  },
  {
   "cell_type": "code",
   "execution_count": 36,
   "metadata": {},
   "outputs": [
    {
     "data": {
      "text/html": [
       "<ol class=list-inline>\n",
       "\t<li>-0.151396451337555</li>\n",
       "\t<li>0.375853018430395</li>\n",
       "</ol>\n"
      ],
      "text/latex": [
       "\\begin{enumerate*}\n",
       "\\item -0.151396451337555\n",
       "\\item 0.375853018430395\n",
       "\\end{enumerate*}\n"
      ],
      "text/markdown": [
       "1. -0.151396451337555\n",
       "2. 0.375853018430395\n",
       "\n",
       "\n"
      ],
      "text/plain": [
       "[1] -0.1513965  0.3758530"
      ]
     },
     "metadata": {},
     "output_type": "display_data"
    }
   ],
   "source": [
    "#Sample correlation +- t * se of the bootstrap dist\n",
    "cor(Freedman$density,Freedman$crime)+c(-1,1)*qt(0.975,nrow(Freedman))*sd(boot_dist)"
   ]
  },
  {
   "cell_type": "markdown",
   "metadata": {},
   "source": [
    "#### Interpretation of results\n",
    "We are 95% confident that the true correlation between density and crime is between the values -0.1514 and 0.3758."
   ]
  },
  {
   "cell_type": "markdown",
   "metadata": {},
   "source": [
    "<a id='rand'></a>"
   ]
  },
  {
   "cell_type": "markdown",
   "metadata": {},
   "source": [
    "### Randomization test\n",
    "\n",
    "Why use it - Dont have to assume a distribution and does not need to be randomly sampled however it nevertheless remains important for randomization tests that the data come from an experiment in which experimental units have been randomly assigned to treatments. We will first go over some topics such as Type 1 and Type 2 error and then do a power analysis to see how it does compared to its conunterpart test.\n",
    "\n",
    "#### Formal Definitions\n",
    "\n",
    "Type 1 error - the error of rejecting a null\n",
    "hypothesis when it is actually true.\n",
    "\n",
    "Type 2 error - the error of not rejecting a null\n",
    "hypothesis when the alternative hypothesis is true.\n",
    "\n",
    "Statistical Power - The power of a study is the likelihood that it will distinguish an effect of a certain size from pure luck. Also 1 - Type 2 error."
   ]
  },
  {
   "cell_type": "markdown",
   "metadata": {},
   "source": [
    "#### How to do a randomization test for one sample\n",
    "\n",
    "The problem we are looking at is levels of toxins in different food products. We only get a couple of samples (6) and we need to find out if the products have a mean level greater than 80. Because the one sample t-test for population mean has its assumption of sample size violated so we use the randomization test"
   ]
  },
  {
   "cell_type": "code",
   "execution_count": 54,
   "metadata": {},
   "outputs": [
    {
     "data": {
      "text/html": [
       "0.1166"
      ],
      "text/latex": [
       "0.1166"
      ],
      "text/markdown": [
       "0.1166"
      ],
      "text/plain": [
       "[1] 0.1166"
      ]
     },
     "metadata": {},
     "output_type": "display_data"
    }
   ],
   "source": [
    "# Find the sample mean of the samples\n",
    "toxin <- c(68, 75, 81, 93, 95, 134)\n",
    "set.seed(123)\n",
    "doRandTestOne <- function(samples, times, null){\n",
    "    \n",
    "    rand_dist <- rep(NA,times)\n",
    "    #Adjust value in the original sample by 91-80 = 11 to center\n",
    "    adjusted <- samples - (mean(samples) - null)\n",
    "    for(i in 1:times){\n",
    "        \n",
    "        rand_sample <- sample(length(samples),replace = TRUE)\n",
    "        rand_dist[i] <- mean(adjusted[rand_sample])\n",
    "    }\n",
    "    #Determine the proportion of samples greater than the original mean, 91\n",
    "    p_value <- mean(rand_dist >= mean(samples))\n",
    "    \n",
    "    return(p_value)\n",
    "}\n",
    "\n",
    "doRandTestOne(toxin, 10000, 80)"
   ]
  },
  {
   "cell_type": "code",
   "execution_count": null,
   "metadata": {},
   "outputs": [],
   "source": [
    "####Using the function\n"
   ]
  },
  {
   "cell_type": "markdown",
   "metadata": {},
   "source": [
    "<a id='anova'></a>"
   ]
  },
  {
   "cell_type": "markdown",
   "metadata": {},
   "source": [
    "## ANOVA\n",
    "\n",
    "ANOVA is a statistical test where we want to figure out if there is a difference in means between three or more populations. We do this instead of doing multiple t-tests because of the type 1 error that increases when you do multiple testing.\n",
    "\n",
    "Some assumptions that need to be met are:\n",
    "• Each group is a random sample from their population\n",
    "• Groups are independent and observations are independent\n",
    "• Observations within each group are normally distributed\n",
    "• Variance of each group is equal (homoscedasticity)\n",
    "\n",
    "Assumptions however can be \n",
    "\n",
    "For hypothesis testing we will be using the F-statistic which is the ratio of the variability between groups and variability within groups. This follows a F distribution that is right skewed, non-negative, and has 2 df's.\n",
    "\n",
    "We will be lookin at a example where we compare differnent kinds of fillings to how many ants come to the sandwich with that filling and see if there is a noticeable difference between filling types"
   ]
  },
  {
   "cell_type": "code",
   "execution_count": 2,
   "metadata": {},
   "outputs": [
    {
     "data": {
      "text/html": [
       "<table>\n",
       "<thead><tr><th scope=col>Butter</th><th scope=col>Filling</th><th scope=col>Bread</th><th scope=col>Ants</th><th scope=col>Order</th></tr></thead>\n",
       "<tbody>\n",
       "\t<tr><td>no           </td><td>Vegemite     </td><td>Rye          </td><td>18           </td><td>10           </td></tr>\n",
       "\t<tr><td>no           </td><td>Peanut Butter</td><td>Rye          </td><td>43           </td><td>26           </td></tr>\n",
       "\t<tr><td>no                                               </td><td>Ham &amp; Pickles                                </td><td><span style=white-space:pre-wrap>Rye      </span></td><td>44                                               </td><td>39                                               </td></tr>\n",
       "\t<tr><td>no           </td><td>Vegemite     </td><td>Wholemeal    </td><td>29           </td><td>25           </td></tr>\n",
       "\t<tr><td>no           </td><td>Peanut Butter</td><td>Wholemeal    </td><td>59           </td><td>35           </td></tr>\n",
       "\t<tr><td>no               </td><td>Ham &amp; Pickles</td><td>Wholemeal        </td><td>34               </td><td> 1               </td></tr>\n",
       "</tbody>\n",
       "</table>\n"
      ],
      "text/latex": [
       "\\begin{tabular}{r|lllll}\n",
       " Butter & Filling & Bread & Ants & Order\\\\\n",
       "\\hline\n",
       "\t no            & Vegemite      & Rye           & 18            & 10           \\\\\n",
       "\t no            & Peanut Butter & Rye           & 43            & 26           \\\\\n",
       "\t no              & Ham \\& Pickles & Rye             & 44              & 39             \\\\\n",
       "\t no            & Vegemite      & Wholemeal     & 29            & 25           \\\\\n",
       "\t no            & Peanut Butter & Wholemeal     & 59            & 35           \\\\\n",
       "\t no              & Ham \\& Pickles & Wholemeal       & 34              &  1             \\\\\n",
       "\\end{tabular}\n"
      ],
      "text/markdown": [
       "\n",
       "Butter | Filling | Bread | Ants | Order | \n",
       "|---|---|---|---|---|---|\n",
       "| no            | Vegemite      | Rye           | 18            | 10            | \n",
       "| no            | Peanut Butter | Rye           | 43            | 26            | \n",
       "| no            | Ham & Pickles | Rye           | 44            | 39            | \n",
       "| no            | Vegemite      | Wholemeal     | 29            | 25            | \n",
       "| no            | Peanut Butter | Wholemeal     | 59            | 35            | \n",
       "| no            | Ham & Pickles | Wholemeal     | 34            |  1            | \n",
       "\n",
       "\n"
      ],
      "text/plain": [
       "  Butter Filling       Bread     Ants Order\n",
       "1 no     Vegemite      Rye       18   10   \n",
       "2 no     Peanut Butter Rye       43   26   \n",
       "3 no     Ham & Pickles Rye       44   39   \n",
       "4 no     Vegemite      Wholemeal 29   25   \n",
       "5 no     Peanut Butter Wholemeal 59   35   \n",
       "6 no     Ham & Pickles Wholemeal 34    1   "
      ]
     },
     "metadata": {},
     "output_type": "display_data"
    },
    {
     "data": {
      "text/plain": [
       "            Df Sum Sq Mean Sq F value Pr(>F)  \n",
       "Filling      2   1561   780.5   5.627  0.011 *\n",
       "Residuals   21   2913   138.7                 \n",
       "---\n",
       "Signif. codes:  0 '***' 0.001 '**' 0.01 '*' 0.05 '.' 0.1 ' ' 1"
      ]
     },
     "metadata": {},
     "output_type": "display_data"
    },
    {
     "data": {
      "text/plain": [
       "\n",
       "Call:\n",
       "aov(formula = Ants ~ Filling, data = SandwichAnts)\n",
       "\n",
       "Residuals:\n",
       "    Min      1Q  Median      3Q     Max \n",
       "-15.250 -10.312   0.000   9.188  25.000 \n",
       "\n",
       "Coefficients:\n",
       "                     Estimate Std. Error t value Pr(>|t|)    \n",
       "(Intercept)            49.250      4.164  11.827 9.51e-11 ***\n",
       "FillingPeanut Butter  -15.250      5.889  -2.590  0.01710 *  \n",
       "FillingVegemite       -18.500      5.889  -3.142  0.00493 ** \n",
       "---\n",
       "Signif. codes:  0 '***' 0.001 '**' 0.01 '*' 0.05 '.' 0.1 ' ' 1\n",
       "\n",
       "Residual standard error: 11.78 on 21 degrees of freedom\n",
       "Multiple R-squared:  0.3489,\tAdjusted R-squared:  0.2869 \n",
       "F-statistic: 5.627 on 2 and 21 DF,  p-value: 0.01105\n"
      ]
     },
     "metadata": {},
     "output_type": "display_data"
    }
   ],
   "source": [
    "data(SandwichAnts)\n",
    "head(SandwichAnts)\n",
    "one.way.anova <- aov(Ants ~ Filling, data = SandwichAnts)\n",
    "summary(one.way.anova)\n",
    "summary.lm(one.way.anova)"
   ]
  },
  {
   "cell_type": "markdown",
   "metadata": {},
   "source": [
    "<a id='tukey'></a>"
   ]
  },
  {
   "cell_type": "markdown",
   "metadata": {},
   "source": [
    "### Tukey HSD Test for Multiple pairwise-comparison between the means of groups"
   ]
  },
  {
   "cell_type": "code",
   "execution_count": 3,
   "metadata": {},
   "outputs": [
    {
     "data": {
      "text/plain": [
       "  Tukey multiple comparisons of means\n",
       "    95% family-wise confidence level\n",
       "\n",
       "Fit: aov(formula = Ants ~ Filling, data = SandwichAnts)\n",
       "\n",
       "$Filling\n",
       "                              diff       lwr        upr     p adj\n",
       "Peanut Butter-Ham & Pickles -15.25 -30.09326 -0.4067363 0.0433492\n",
       "Vegemite-Ham & Pickles      -18.50 -33.34326 -3.6567363 0.0131006\n",
       "Vegemite-Peanut Butter       -3.25 -18.09326 11.5932637 0.8466376\n"
      ]
     },
     "metadata": {},
     "output_type": "display_data"
    }
   ],
   "source": [
    "## Rationale is to determine if the mean difference between specific pairs of group are statistically significant\n",
    "TukeyHSD(one.way.anova)"
   ]
  },
  {
   "cell_type": "markdown",
   "metadata": {},
   "source": [
    "<a id='anova_val'></a>"
   ]
  },
  {
   "cell_type": "markdown",
   "metadata": {},
   "source": [
    "### Checking Assumptions"
   ]
  },
  {
   "cell_type": "code",
   "execution_count": 13,
   "metadata": {},
   "outputs": [
    {
     "data": {
      "image/png": "[encoded data removed]",
      "text/plain": [
       "Plot with title \"\""
      ]
     },
     "metadata": {},
     "output_type": "display_data"
    }
   ],
   "source": [
    "#Equal variance for all filling groups\n",
    "plot(one.way.anova, 1)"
   ]
  },
  {
   "cell_type": "code",
   "execution_count": 14,
   "metadata": {},
   "outputs": [
    {
     "data": {
      "text/html": [
       "<table>\n",
       "<thead><tr><th></th><th scope=col>Df</th><th scope=col>F value</th><th scope=col>Pr(&gt;F)</th></tr></thead>\n",
       "<tbody>\n",
       "\t<tr><th scope=row>group</th><td> 2       </td><td>1.298213 </td><td>0.2940473</td></tr>\n",
       "\t<tr><th scope=row> </th><td>21       </td><td>      NA </td><td>       NA</td></tr>\n",
       "</tbody>\n",
       "</table>\n"
      ],
      "text/latex": [
       "\\begin{tabular}{r|lll}\n",
       "  & Df & F value & Pr(>F)\\\\\n",
       "\\hline\n",
       "\tgroup &  2        & 1.298213  & 0.2940473\\\\\n",
       "\t  & 21        &       NA  &        NA\\\\\n",
       "\\end{tabular}\n"
      ],
      "text/markdown": [
       "\n",
       "| <!--/--> | Df | F value | Pr(>F) | \n",
       "|---|---|\n",
       "| group |  2        | 1.298213  | 0.2940473 | \n",
       "|   | 21        |       NA  |        NA | \n",
       "\n",
       "\n"
      ],
      "text/plain": [
       "      Df F value  Pr(>F)   \n",
       "group  2 1.298213 0.2940473\n",
       "      21       NA        NA"
      ]
     },
     "metadata": {},
     "output_type": "display_data"
    }
   ],
   "source": [
    "##From graph it looks like it might not be supported so we do the Levene test from the car library to make sure\n",
    "leveneTest(Ants~Filling, data = SandwichAnts)"
   ]
  },
  {
   "cell_type": "code",
   "execution_count": 18,
   "metadata": {},
   "outputs": [
    {
     "data": {
      "image/png": "[encoded data removed]",
      "text/plain": [
       "Plot with title \"QQ Plot of Residuals\""
      ]
     },
     "metadata": {},
     "output_type": "display_data"
    }
   ],
   "source": [
    "# Now to check if the residuals follow a normal distribtution\n",
    "# Extract the residuals\n",
    "res <- residuals(one.way.anova)\n",
    "qqnorm(res, main = \"QQ Plot of Residuals\")\n",
    "qqline(res)"
   ]
  },
  {
   "cell_type": "code",
   "execution_count": 19,
   "metadata": {},
   "outputs": [
    {
     "data": {
      "text/plain": [
       "\n",
       "\tShapiro-Wilk normality test\n",
       "\n",
       "data:  res\n",
       "W = 0.94685, p-value = 0.2313\n"
      ]
     },
     "metadata": {},
     "output_type": "display_data"
    }
   ],
   "source": [
    "# Does not look like it does so we do the Shapiro-Wilks test to make sure\n",
    "# Run Shapiro-Wilk test\n",
    "shapiro.test(res)"
   ]
  },
  {
   "cell_type": "markdown",
   "metadata": {},
   "source": [
    "<a id='anova_res'></a>"
   ]
  },
  {
   "cell_type": "markdown",
   "metadata": {},
   "source": [
    "### Results "
   ]
  },
  {
   "cell_type": "markdown",
   "metadata": {},
   "source": [
    "From looking at the table after conducting the ANOVA test on the different groups we get a p-value that is less than the .05 significance level thus we can reject the null hypothesis an conclude their is statistical evidence that theres a difference in means in the different filling types. \n",
    "\n",
    "In terms of the specific kinds of pairing between fillings we see from the Tukey HSD test that Peanut Butter-Ham vs Pickles and\n",
    "Vegemite-Ham vs Pickles had p-values that were less than the .05 significance level meaning there was seen to be a significant difference between those pairs means while the Vegemite vs Peanut Butter did not have enough statistical evidence to find a difference in the sample means\n",
    "\n",
    "When validating the assumptions of ANOVA we need to see if the variances are homoschedastic or equal between the different filling types. Using the Levene test we find a p-value greater than the significance level thus we cannot reject the null hypothesis that the variancees are equal. We also look at the residuals and we need to find that the distribution is normal. We do the Shapiro-Wilks normality test and we find that the p-value is greater than the .05 significance level thus we cannot reject the null hypothesis that the residual are normal."
   ]
  },
  {
   "cell_type": "markdown",
   "metadata": {},
   "source": [
    "<a id='two_anova'></a>"
   ]
  },
  {
   "cell_type": "markdown",
   "metadata": {},
   "source": [
    "## Two Way ANOVA \n",
    "## (factorial treatment structure or a factorial design)"
   ]
  },
  {
   "cell_type": "markdown",
   "metadata": {},
   "source": [
    "What it is: compares the levels of two categorical variables\n",
    "on a single continuous response.\n",
    "\n",
    "Why do we use it: Because we want to see not just the effects of each of the categorical variables but also want to see the itneraction between them\n",
    "\n",
    "Assumptions are the same as the One-Way ANOVA where the groups have  equal variance and the residuals follow a normal distribtuion.\n",
    "\n",
    "We will be looking at two different kinds of factorial designs, balanced and unbalanced. We use balanced when groups have equal samples and we can use the standard Two-Way ANOVA. For unbalanced this is not true and we will use Type 3 Two-Way ANOVA"
   ]
  },
  {
   "cell_type": "markdown",
   "metadata": {},
   "source": [
    "### Balanced Design"
   ]
  },
  {
   "cell_type": "code",
   "execution_count": 22,
   "metadata": {},
   "outputs": [
    {
     "data": {
      "text/html": [
       "<table>\n",
       "<thead><tr><th scope=col>len</th><th scope=col>supp</th><th scope=col>dose</th></tr></thead>\n",
       "<tbody>\n",
       "\t<tr><td> 4.2</td><td>VC  </td><td>0.5 </td></tr>\n",
       "\t<tr><td>11.5</td><td>VC  </td><td>0.5 </td></tr>\n",
       "\t<tr><td> 7.3</td><td>VC  </td><td>0.5 </td></tr>\n",
       "\t<tr><td> 5.8</td><td>VC  </td><td>0.5 </td></tr>\n",
       "\t<tr><td> 6.4</td><td>VC  </td><td>0.5 </td></tr>\n",
       "\t<tr><td>10.0</td><td>VC  </td><td>0.5 </td></tr>\n",
       "</tbody>\n",
       "</table>\n"
      ],
      "text/latex": [
       "\\begin{tabular}{r|lll}\n",
       " len & supp & dose\\\\\n",
       "\\hline\n",
       "\t  4.2 & VC   & 0.5 \\\\\n",
       "\t 11.5 & VC   & 0.5 \\\\\n",
       "\t  7.3 & VC   & 0.5 \\\\\n",
       "\t  5.8 & VC   & 0.5 \\\\\n",
       "\t  6.4 & VC   & 0.5 \\\\\n",
       "\t 10.0 & VC   & 0.5 \\\\\n",
       "\\end{tabular}\n"
      ],
      "text/markdown": [
       "\n",
       "len | supp | dose | \n",
       "|---|---|---|---|---|---|\n",
       "|  4.2 | VC   | 0.5  | \n",
       "| 11.5 | VC   | 0.5  | \n",
       "|  7.3 | VC   | 0.5  | \n",
       "|  5.8 | VC   | 0.5  | \n",
       "|  6.4 | VC   | 0.5  | \n",
       "| 10.0 | VC   | 0.5  | \n",
       "\n",
       "\n"
      ],
      "text/plain": [
       "  len  supp dose\n",
       "1  4.2 VC   0.5 \n",
       "2 11.5 VC   0.5 \n",
       "3  7.3 VC   0.5 \n",
       "4  5.8 VC   0.5 \n",
       "5  6.4 VC   0.5 \n",
       "6 10.0 VC   0.5 "
      ]
     },
     "metadata": {},
     "output_type": "display_data"
    },
    {
     "name": "stdout",
     "output_type": "stream",
     "text": [
      "'data.frame':\t60 obs. of  3 variables:\n",
      " $ len : num  4.2 11.5 7.3 5.8 6.4 10 11.2 11.2 5.2 7 ...\n",
      " $ supp: Factor w/ 2 levels \"OJ\",\"VC\": 2 2 2 2 2 2 2 2 2 2 ...\n",
      " $ dose: Factor w/ 3 levels \"0.5\",\"1\",\"2\": 1 1 1 1 1 1 1 1 1 1 ...\n"
     ]
    },
    {
     "data": {
      "text/plain": [
       "    \n",
       "     0.5  1  2\n",
       "  OJ  10 10 10\n",
       "  VC  10 10 10"
      ]
     },
     "metadata": {},
     "output_type": "display_data"
    },
    {
     "data": {},
     "metadata": {},
     "output_type": "display_data"
    },
    {
     "data": {
      "image/png": "[encoded data removed]",
      "text/plain": [
       "plot without title"
      ]
     },
     "metadata": {},
     "output_type": "display_data"
    }
   ],
   "source": [
    "# Load in the data\n",
    "data(ToothGrowth)\n",
    "head(ToothGrowth)\n",
    "#Change into factors and see that the groups have equal sample size\n",
    "ToothGrowth$supp <- as.factor(ToothGrowth$supp)\n",
    "ToothGrowth$dose <- as.factor(ToothGrowth$dose)\n",
    "str(ToothGrowth)\n",
    "table(ToothGrowth$supp, ToothGrowth$dose)\n",
    "#Visualize the data\n",
    "ggplot(ToothGrowth, aes(x = dose, y = len, color = supp))+\n",
    "    geom_boxplot()"
   ]
  },
  {
   "cell_type": "code",
   "execution_count": 23,
   "metadata": {},
   "outputs": [
    {
     "data": {
      "text/plain": [
       "            Df Sum Sq Mean Sq F value   Pr(>F)    \n",
       "supp         1  205.4   205.4  15.572 0.000231 ***\n",
       "dose         2 2426.4  1213.2  92.000  < 2e-16 ***\n",
       "supp:dose    2  108.3    54.2   4.107 0.021860 *  \n",
       "Residuals   54  712.1    13.2                     \n",
       "---\n",
       "Signif. codes:  0 '***' 0.001 '**' 0.01 '*' 0.05 '.' 0.1 ' ' 1"
      ]
     },
     "metadata": {},
     "output_type": "display_data"
    }
   ],
   "source": [
    "#Conduct the Two Way ANOVA test\n",
    "aov2 <- aov(len ~ supp * dose, ToothGrowth)\n",
    "summary(aov2)"
   ]
  },
  {
   "cell_type": "code",
   "execution_count": 24,
   "metadata": {},
   "outputs": [
    {
     "data": {
      "text/plain": [
       "  Tukey multiple comparisons of means\n",
       "    95% family-wise confidence level\n",
       "\n",
       "Fit: aov(formula = len ~ supp * dose, data = ToothGrowth)\n",
       "\n",
       "$supp\n",
       "      diff       lwr       upr     p adj\n",
       "VC-OJ -3.7 -5.579828 -1.820172 0.0002312\n",
       "\n",
       "$dose\n",
       "        diff       lwr       upr   p adj\n",
       "1-0.5  9.130  6.362488 11.897512 0.0e+00\n",
       "2-0.5 15.495 12.727488 18.262512 0.0e+00\n",
       "2-1    6.365  3.597488  9.132512 2.7e-06\n",
       "\n",
       "$`supp:dose`\n",
       "               diff        lwr        upr     p adj\n",
       "VC:0.5-OJ:0.5 -5.25 -10.048124 -0.4518762 0.0242521\n",
       "OJ:1-OJ:0.5    9.47   4.671876 14.2681238 0.0000046\n",
       "VC:1-OJ:0.5    3.54  -1.258124  8.3381238 0.2640208\n",
       "OJ:2-OJ:0.5   12.83   8.031876 17.6281238 0.0000000\n",
       "VC:2-OJ:0.5   12.91   8.111876 17.7081238 0.0000000\n",
       "OJ:1-VC:0.5   14.72   9.921876 19.5181238 0.0000000\n",
       "VC:1-VC:0.5    8.79   3.991876 13.5881238 0.0000210\n",
       "OJ:2-VC:0.5   18.08  13.281876 22.8781238 0.0000000\n",
       "VC:2-VC:0.5   18.16  13.361876 22.9581238 0.0000000\n",
       "VC:1-OJ:1     -5.93 -10.728124 -1.1318762 0.0073930\n",
       "OJ:2-OJ:1      3.36  -1.438124  8.1581238 0.3187361\n",
       "VC:2-OJ:1      3.44  -1.358124  8.2381238 0.2936430\n",
       "OJ:2-VC:1      9.29   4.491876 14.0881238 0.0000069\n",
       "VC:2-VC:1      9.37   4.571876 14.1681238 0.0000058\n",
       "VC:2-OJ:2      0.08  -4.718124  4.8781238 1.0000000\n"
      ]
     },
     "metadata": {},
     "output_type": "display_data"
    }
   ],
   "source": [
    "#Conduct Tukey HSD to see if any specific inferences can be made\n",
    "TukeyHSD(aov2)"
   ]
  },
  {
   "cell_type": "markdown",
   "metadata": {},
   "source": [
    "### Check Assumptions"
   ]
  },
  {
   "cell_type": "code",
   "execution_count": 26,
   "metadata": {},
   "outputs": [
    {
     "data": {
      "text/html": [
       "<table>\n",
       "<thead><tr><th></th><th scope=col>Df</th><th scope=col>F value</th><th scope=col>Pr(&gt;F)</th></tr></thead>\n",
       "<tbody>\n",
       "\t<tr><th scope=row>group</th><td> 5       </td><td>1.708578 </td><td>0.1483606</td></tr>\n",
       "\t<tr><th scope=row> </th><td>54       </td><td>      NA </td><td>       NA</td></tr>\n",
       "</tbody>\n",
       "</table>\n"
      ],
      "text/latex": [
       "\\begin{tabular}{r|lll}\n",
       "  & Df & F value & Pr(>F)\\\\\n",
       "\\hline\n",
       "\tgroup &  5        & 1.708578  & 0.1483606\\\\\n",
       "\t  & 54        &       NA  &        NA\\\\\n",
       "\\end{tabular}\n"
      ],
      "text/markdown": [
       "\n",
       "| <!--/--> | Df | F value | Pr(>F) | \n",
       "|---|---|\n",
       "| group |  5        | 1.708578  | 0.1483606 | \n",
       "|   | 54        |       NA  |        NA | \n",
       "\n",
       "\n"
      ],
      "text/plain": [
       "      Df F value  Pr(>F)   \n",
       "group  5 1.708578 0.1483606\n",
       "      54       NA        NA"
      ]
     },
     "metadata": {},
     "output_type": "display_data"
    },
    {
     "data": {
      "image/png": "[encoded data removed]",
      "text/plain": [
       "Plot with title \"\""
      ]
     },
     "metadata": {},
     "output_type": "display_data"
    }
   ],
   "source": [
    "#Check homogenity og variances by checking residual vs fitted values\n",
    "plot(aov2, 1)\n",
    "\n",
    "# Outliers might invalidate our assumption so we do the levene test to make sure\n",
    "leveneTest(len ~ supp * dose, ToothGrowth )"
   ]
  },
  {
   "cell_type": "code",
   "execution_count": 28,
   "metadata": {},
   "outputs": [
    {
     "data": {
      "text/plain": [
       "\n",
       "\tShapiro-Wilk normality test\n",
       "\n",
       "data:  residuals(aov2)\n",
       "W = 0.98499, p-value = 0.6694\n"
      ]
     },
     "metadata": {},
     "output_type": "display_data"
    },
    {
     "data": {
      "image/png": "[encoded data removed]",
      "text/plain": [
       "Plot with title \"\""
      ]
     },
     "metadata": {},
     "output_type": "display_data"
    }
   ],
   "source": [
    "# Check if residual follow normal distribution\n",
    "plot(aov2, 2)\n",
    "\n",
    "#Use shapiro wilks to make sure\n",
    "shapiro.test(residuals(aov2))"
   ]
  },
  {
   "cell_type": "markdown",
   "metadata": {},
   "source": [
    "### Results\n",
    "\n",
    "We have three hypotheses that we tested. First is if there is an effect with supplement, dosage has an effect and if the interation between dosage and supplement has an effect.\n",
    "\n",
    "From looking at the table after we do the two way anova test, we see that the p-values for all of the things we wantwed to test for are seen to be significant thus we can eject the null hypotheses and conclude there is statistical evidence that suggest that there are significant difference between levels of the supplement, dosage and  the interaction in terms of amount of ants.\n",
    "\n",
    "We also see that all the assumptions are found to be met as well thus validating our test.\n"
   ]
  },
  {
   "cell_type": "markdown",
   "metadata": {},
   "source": [
    "## Unbalanced\n",
    "Before we do the analysis we will look at all the different types of the Two Way ANOVA test.\n",
    "\n",
    "Type 1: Used mainly when we have balanced factorial design. This uses type 1 sum of squares that is the incremental reduction of residual sum of squares for each factor added into the model. This approach test for main effects of factor a followed by factor b and then followed by the interaction ab. \n",
    "\n",
    "Type 2: Order does not matter like in type 1 and the incremental reduction of sum of squares is due to adding all other terms containing the effect being tested.\n",
    "\n",
    "Type 3: It is the incremental reduction of residual sum of\n",
    "squares due to adding that term to the model consisting of all\n",
    "other terms including the interaction and is computed after all the other effect are in the model.\n",
    "\n",
    "We usually just want to use type 3 because it works in a wide variety of cases with unbalanced data while type 2 works better when the unbalanced data does not have the interaction term in the model"
   ]
  },
  {
   "cell_type": "code",
   "execution_count": 36,
   "metadata": {},
   "outputs": [
    {
     "data": {
      "text/html": [
       "<table>\n",
       "<thead><tr><th scope=col>Make</th><th scope=col>Model</th><th scope=col>Type</th><th scope=col>LowPrice</th><th scope=col>HighPrice</th><th scope=col>Drive</th><th scope=col>CityMPG</th><th scope=col>HwyMPG</th><th scope=col>FuelCap</th><th scope=col>Length</th><th scope=col>Width</th><th scope=col>Wheelbase</th><th scope=col>Height</th><th scope=col>UTurn</th><th scope=col>Weight</th><th scope=col>Acc030</th><th scope=col>Acc060</th><th scope=col>QtrMile</th><th scope=col>PageNum</th><th scope=col>Size</th></tr></thead>\n",
       "<tbody>\n",
       "\t<tr><td>Chevrolet </td><td>Spark     </td><td>Hatchback </td><td>12.270    </td><td>25.560    </td><td>FWD       </td><td>30        </td><td>39        </td><td> 9.0      </td><td>145       </td><td>63        </td><td> 94       </td><td>61        </td><td>34        </td><td>2345      </td><td>4.4       </td><td>12.8      </td><td>19.4      </td><td>123       </td><td>Small     </td></tr>\n",
       "\t<tr><td>Hyundai   </td><td>Accent    </td><td>Hatchback </td><td>14.745    </td><td>17.495    </td><td>FWD       </td><td>28        </td><td>37        </td><td>11.4      </td><td>172       </td><td>67        </td><td>101       </td><td>57        </td><td>37        </td><td>2550      </td><td>3.7       </td><td>10.3      </td><td>17.8      </td><td>148       </td><td>Small     </td></tr>\n",
       "\t<tr><td>Kia       </td><td>Rio       </td><td>Sedan     </td><td>13.990    </td><td>18.290    </td><td>FWD       </td><td>28        </td><td>36        </td><td>11.3      </td><td>172       </td><td>68        </td><td>101       </td><td>57        </td><td>37        </td><td>2575      </td><td>3.5       </td><td> 9.5      </td><td>17.3      </td><td>163       </td><td>Small     </td></tr>\n",
       "\t<tr><td>Mitsubishi</td><td>Mirage    </td><td>Hatchback </td><td>12.995    </td><td>15.395    </td><td>FWD       </td><td>37        </td><td>44        </td><td> 9.2      </td><td>149       </td><td>66        </td><td> 97       </td><td>59        </td><td>32        </td><td>2085      </td><td>4.4       </td><td>12.1      </td><td>19.0      </td><td>188       </td><td>Small     </td></tr>\n",
       "\t<tr><td>Nissan    </td><td>Versa Note</td><td>Hatchback </td><td>14.180    </td><td>17.960    </td><td>FWD       </td><td>31        </td><td>40        </td><td>10.9      </td><td>164       </td><td>67        </td><td>102       </td><td>61        </td><td>37        </td><td>2470      </td><td>4.0       </td><td>10.9      </td><td>18.2      </td><td>196       </td><td>Small     </td></tr>\n",
       "\t<tr><td>Dodge     </td><td>Dart      </td><td>Sedan     </td><td>16.495    </td><td>23.795    </td><td>FWD       </td><td>23        </td><td>35        </td><td>14.2      </td><td>184       </td><td>72        </td><td>106       </td><td>58        </td><td>38        </td><td>3260      </td><td>3.4       </td><td> 9.3      </td><td>17.2      </td><td>128       </td><td>Small     </td></tr>\n",
       "</tbody>\n",
       "</table>\n"
      ],
      "text/latex": [
       "\\begin{tabular}{r|llllllllllllllllllll}\n",
       " Make & Model & Type & LowPrice & HighPrice & Drive & CityMPG & HwyMPG & FuelCap & Length & Width & Wheelbase & Height & UTurn & Weight & Acc030 & Acc060 & QtrMile & PageNum & Size\\\\\n",
       "\\hline\n",
       "\t Chevrolet  & Spark      & Hatchback  & 12.270     & 25.560     & FWD        & 30         & 39         &  9.0       & 145        & 63         &  94        & 61         & 34         & 2345       & 4.4        & 12.8       & 19.4       & 123        & Small     \\\\\n",
       "\t Hyundai    & Accent     & Hatchback  & 14.745     & 17.495     & FWD        & 28         & 37         & 11.4       & 172        & 67         & 101        & 57         & 37         & 2550       & 3.7        & 10.3       & 17.8       & 148        & Small     \\\\\n",
       "\t Kia        & Rio        & Sedan      & 13.990     & 18.290     & FWD        & 28         & 36         & 11.3       & 172        & 68         & 101        & 57         & 37         & 2575       & 3.5        &  9.5       & 17.3       & 163        & Small     \\\\\n",
       "\t Mitsubishi & Mirage     & Hatchback  & 12.995     & 15.395     & FWD        & 37         & 44         &  9.2       & 149        & 66         &  97        & 59         & 32         & 2085       & 4.4        & 12.1       & 19.0       & 188        & Small     \\\\\n",
       "\t Nissan     & Versa Note & Hatchback  & 14.180     & 17.960     & FWD        & 31         & 40         & 10.9       & 164        & 67         & 102        & 61         & 37         & 2470       & 4.0        & 10.9       & 18.2       & 196        & Small     \\\\\n",
       "\t Dodge      & Dart       & Sedan      & 16.495     & 23.795     & FWD        & 23         & 35         & 14.2       & 184        & 72         & 106        & 58         & 38         & 3260       & 3.4        &  9.3       & 17.2       & 128        & Small     \\\\\n",
       "\\end{tabular}\n"
      ],
      "text/markdown": [
       "\n",
       "Make | Model | Type | LowPrice | HighPrice | Drive | CityMPG | HwyMPG | FuelCap | Length | Width | Wheelbase | Height | UTurn | Weight | Acc030 | Acc060 | QtrMile | PageNum | Size | \n",
       "|---|---|---|---|---|---|\n",
       "| Chevrolet  | Spark      | Hatchback  | 12.270     | 25.560     | FWD        | 30         | 39         |  9.0       | 145        | 63         |  94        | 61         | 34         | 2345       | 4.4        | 12.8       | 19.4       | 123        | Small      | \n",
       "| Hyundai    | Accent     | Hatchback  | 14.745     | 17.495     | FWD        | 28         | 37         | 11.4       | 172        | 67         | 101        | 57         | 37         | 2550       | 3.7        | 10.3       | 17.8       | 148        | Small      | \n",
       "| Kia        | Rio        | Sedan      | 13.990     | 18.290     | FWD        | 28         | 36         | 11.3       | 172        | 68         | 101        | 57         | 37         | 2575       | 3.5        |  9.5       | 17.3       | 163        | Small      | \n",
       "| Mitsubishi | Mirage     | Hatchback  | 12.995     | 15.395     | FWD        | 37         | 44         |  9.2       | 149        | 66         |  97        | 59         | 32         | 2085       | 4.4        | 12.1       | 19.0       | 188        | Small      | \n",
       "| Nissan     | Versa Note | Hatchback  | 14.180     | 17.960     | FWD        | 31         | 40         | 10.9       | 164        | 67         | 102        | 61         | 37         | 2470       | 4.0        | 10.9       | 18.2       | 196        | Small      | \n",
       "| Dodge      | Dart       | Sedan      | 16.495     | 23.795     | FWD        | 23         | 35         | 14.2       | 184        | 72         | 106        | 58         | 38         | 3260       | 3.4        |  9.3       | 17.2       | 128        | Small      | \n",
       "\n",
       "\n"
      ],
      "text/plain": [
       "  Make       Model      Type      LowPrice HighPrice Drive CityMPG HwyMPG\n",
       "1 Chevrolet  Spark      Hatchback 12.270   25.560    FWD   30      39    \n",
       "2 Hyundai    Accent     Hatchback 14.745   17.495    FWD   28      37    \n",
       "3 Kia        Rio        Sedan     13.990   18.290    FWD   28      36    \n",
       "4 Mitsubishi Mirage     Hatchback 12.995   15.395    FWD   37      44    \n",
       "5 Nissan     Versa Note Hatchback 14.180   17.960    FWD   31      40    \n",
       "6 Dodge      Dart       Sedan     16.495   23.795    FWD   23      35    \n",
       "  FuelCap Length Width Wheelbase Height UTurn Weight Acc030 Acc060 QtrMile\n",
       "1  9.0    145    63     94       61     34    2345   4.4    12.8   19.4   \n",
       "2 11.4    172    67    101       57     37    2550   3.7    10.3   17.8   \n",
       "3 11.3    172    68    101       57     37    2575   3.5     9.5   17.3   \n",
       "4  9.2    149    66     97       59     32    2085   4.4    12.1   19.0   \n",
       "5 10.9    164    67    102       61     37    2470   4.0    10.9   18.2   \n",
       "6 14.2    184    72    106       58     38    3260   3.4     9.3   17.2   \n",
       "  PageNum Size \n",
       "1 123     Small\n",
       "2 148     Small\n",
       "3 163     Small\n",
       "4 188     Small\n",
       "5 196     Small\n",
       "6 128     Small"
      ]
     },
     "metadata": {},
     "output_type": "display_data"
    },
    {
     "data": {
      "text/plain": [
       "           \n",
       "            AWD FWD RWD\n",
       "  7Pass       0  10   5\n",
       "  Hatchback   0  11   0\n",
       "  Sedan      20  26   0\n",
       "  Sporty      0   1  10\n",
       "  SUV         2   9   7\n",
       "  Wagon       3   6   0"
      ]
     },
     "metadata": {},
     "output_type": "display_data"
    }
   ],
   "source": [
    "# Load Data\n",
    "data(Cars2015)\n",
    "head(Cars2015)\n",
    "# Choose Type, Drive and High price and put them in their own df\n",
    "df <- Cars2015[c('Type', 'Drive', 'HighPrice')]\n",
    "table(df$Type, df$Drive)"
   ]
  },
  {
   "cell_type": "code",
   "execution_count": 39,
   "metadata": {},
   "outputs": [
    {
     "ename": "ERROR",
     "evalue": "Error in Anova.III.lm(mod, error, singular.ok = singular.ok, ...): there are aliased coefficients in the model\n",
     "output_type": "error",
     "traceback": [
      "Error in Anova.III.lm(mod, error, singular.ok = singular.ok, ...): there are aliased coefficients in the model\nTraceback:\n",
      "1. Anova(aov3, type = \"III\")",
      "2. Anova.aov(aov3, type = \"III\")",
      "3. Anova.lm(mod, ...)",
      "4. Anova.III.lm(mod, error, singular.ok = singular.ok, ...)",
      "5. stop(\"there are aliased coefficients in the model\")"
     ]
    }
   ],
   "source": [
    "#we see that the groups are not balanced from the table we will now do two way anova with type 3 sum of squares\n",
    "aov3 <- aov(HighPrice ~ Type * Drive, df)\n",
    "Anova(aov3, type = 'III')"
   ]
  },
  {
   "cell_type": "code",
   "execution_count": null,
   "metadata": {},
   "outputs": [],
   "source": [
    "## ANCOVA"
   ]
  },
  {
   "cell_type": "markdown",
   "metadata": {},
   "source": [
    "<a href='#back'>Back to the top</a>"
   ]
  }
 ],
 "metadata": {
  "kernelspec": {
   "display_name": "R",
   "language": "R",
   "name": "ir"
  },
  "language_info": {
   "codemirror_mode": "r",
   "file_extension": ".r",
   "mimetype": "text/x-r-source",
   "name": "R",
   "pygments_lexer": "r",
   "version": "3.4.1"
  }
 },
 "nbformat": 4,
 "nbformat_minor": 2
}
